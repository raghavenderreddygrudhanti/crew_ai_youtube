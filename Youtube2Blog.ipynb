{
 "cells": [
  {
   "cell_type": "code",
   "execution_count": null,
   "id": "ac2b4238",
   "metadata": {},
   "outputs": [],
   "source": [
    "from crewai import Task ,Agent ,Crew \n",
    "from crewai_tools import YoutubeChannelSearchTool\n",
    "import warnings\n",
    "\n",
    "# Ignore all warnings\n",
    "warnings.filterwarnings(\"ignore\")"
   ]
  },
  {
   "cell_type": "code",
   "execution_count": 3,
   "id": "2ecb3a65",
   "metadata": {},
   "outputs": [],
   "source": [
    "from IPython.display import Markdown"
   ]
  },
  {
   "cell_type": "code",
   "execution_count": null,
   "id": "40e40ae5",
   "metadata": {},
   "outputs": [],
   "source": [
    "# Import the necessary tools and libraries\n",
    "you_search_tool = YoutubeChannelSearchTool(youtube_channel_handle='@@Firstpost')\n"
   ]
  },
  {
   "cell_type": "code",
   "execution_count": null,
   "id": "3fc7a7db",
   "metadata": {},
   "outputs": [],
   "source": [
    "# Define the Research Agent with specific goals, backstory, and tools\n",
    "reasearch_agent = Agent(\n",
    "    role='ReasearchAgent',  # Defines the agent's role as a research expert\n",
    "    goal='You are expert in Analyzing the video content provided on given topic {topic} and get the content',  # Goal of the agent\n",
    "    backstory='You are an expert in analyzing the content provided for the given topic and provide the summary',  # Backstory for context\n",
    "    allow_delegation=True,  # Prevents the agent from delegating tasks\n",
    "    verbose=True,  # Enables detailed logging\n",
    "    tools=[you_search_tool]  # Assigns the YouTube search tool to the agent\n",
    ")"
   ]
  },
  {
   "cell_type": "code",
   "execution_count": null,
   "id": "66831a4f",
   "metadata": {},
   "outputs": [],
   "source": [
    "# Define the Writer Agent with specific goals, backstory, and tools\n",
    "writer_agent = Agent(\n",
    "    role='WriterAgent',  # Defines the agent's role as a content writer\n",
    "    goal='You are expert in analyzing the content provided for given topic {topic} and write the blog content',  # Goal of the agent\n",
    "    backstory='You are an expert in analyzing the content provided for the given topic and provide the blog content',  # Backstory for context\n",
    "    allow_delegation=False,  # Prevents the agent from delegating tasks\n",
    "    verbose=True,  # Enables detailed logging\n",
    "    tools=[you_search_tool]  # Assigns the YouTube search tool to the agent\n",
    ")"
   ]
  },
  {
   "cell_type": "code",
   "execution_count": null,
   "id": "0b05f1aa",
   "metadata": {},
   "outputs": [],
   "source": [
    "# Define the research task\n",
    "reasearch_task = Task(\n",
    "    description='You are an expert in researching the content',  # Task description\n",
    "    expected_output='Please provide full content of given topic',  # Expected output of the task\n",
    "    tools=[you_search_tool],  # Tool(s) used to complete the task\n",
    "    agent=reasearch_agent  # Assigns the research agent to the task\n",
    ")"
   ]
  },
  {
   "cell_type": "code",
   "execution_count": null,
   "id": "a3e45996",
   "metadata": {},
   "outputs": [],
   "source": [
    "# Define the writing task\n",
    "writer_task = Task(\n",
    "    description='You are an expert in writing the blog content',  # Task description\n",
    "    expected_output='I need the content of topic as follows , Introduction , History , Background , Advantages , Disadvantages',  # Expected output format\n",
    "    tools=[you_search_tool],  # Tool(s) used to complete the task\n",
    "    agent=writer_agent  # Assigns the writer agent to the task\n",
    ")"
   ]
  },
  {
   "cell_type": "code",
   "execution_count": null,
   "id": "4f8f2b9d",
   "metadata": {},
   "outputs": [],
   "source": [
    "# Define the crew to manage agents and tasks\n",
    "mycrew = Crew(\n",
    "    agents=[reasearch_agent, writer_agent],  # List of agents in the crew\n",
    "    tasks=[reasearch_task, writer_task],  # List of tasks for the crew\n",
    "    verbose=True  # Enables detailed logging\n",
    ")"
   ]
  },
  {
   "cell_type": "code",
   "execution_count": null,
   "id": "185d0860",
   "metadata": {},
   "outputs": [],
   "source": [
    "# Kick off the tasks for the crew with the input topic\n",
    "result = mycrew.kickoff(inputs={'topic': 'IT Jobs'})\n"
   ]
  },
  {
   "cell_type": "code",
   "execution_count": null,
   "id": "0f798cb3",
   "metadata": {},
   "outputs": [],
   "source": [
    "MarkDonw(result.raw)"
   ]
  }
 ],
 "metadata": {
  "kernelspec": {
   "display_name": "Python 3 (ipykernel)",
   "language": "python",
   "name": "python3"
  },
  "language_info": {
   "codemirror_mode": {
    "name": "ipython",
    "version": 3
   },
   "file_extension": ".py",
   "mimetype": "text/x-python",
   "name": "python",
   "nbconvert_exporter": "python",
   "pygments_lexer": "ipython3",
   "version": "3.10.9"
  }
 },
 "nbformat": 4,
 "nbformat_minor": 5
}
